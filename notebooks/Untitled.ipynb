{
 "cells": [
  {
   "cell_type": "code",
   "execution_count": 1,
   "id": "11493c36-460f-454c-aa94-5fee88c2b5a8",
   "metadata": {},
   "outputs": [],
   "source": [
    "import os\n",
    "import matplotlib.pyplot as plt\n",
    "import cv2\n"
   ]
  },
  {
   "cell_type": "code",
   "execution_count": 8,
   "id": "173c8663-c545-4448-bff8-2c8f9b030715",
   "metadata": {},
   "outputs": [
    {
     "name": "stdout",
     "output_type": "stream",
     "text": [
      "   Sr.No.            Folder Name  \\\n",
      "0       1  All Dictionary Videos   \n",
      "1       2                      A   \n",
      "2       3                      B   \n",
      "3       4                      C   \n",
      "4       5                      D   \n",
      "\n",
      "                                               Link   \n",
      "0  https://drive.google.com/drive/folders/1U-Pr4r...  \n",
      "1  https://drive.google.com/drive/folders/1nkI7ld...  \n",
      "2  https://drive.google.com/drive/folders/1S-G5qo...  \n",
      "3  https://drive.google.com/drive/folders/1iZvUpD...  \n",
      "4  https://drive.google.com/drive/folders/1aQywSG...  \n",
      "(28, 3)\n"
     ]
    }
   ],
   "source": [
    "import pandas as pd\n",
    "\n",
    "df = pd.read_csv(\"D:\\\\ISL_Dictionary_words.csv\")\n",
    "print(df.head())\n",
    "print(df.shape)\n"
   ]
  },
  {
   "cell_type": "code",
   "execution_count": 9,
   "id": "675d9ad8-ef14-4fbb-b6b9-618c18dc7ca6",
   "metadata": {},
   "outputs": [
    {
     "ename": "ModuleNotFoundError",
     "evalue": "No module named 'gdown_folder'",
     "output_type": "error",
     "traceback": [
      "\u001b[1;31m---------------------------------------------------------------------------\u001b[0m",
      "\u001b[1;31mModuleNotFoundError\u001b[0m                       Traceback (most recent call last)",
      "Cell \u001b[1;32mIn[9], line 2\u001b[0m\n\u001b[0;32m      1\u001b[0m \u001b[38;5;28;01mimport\u001b[39;00m\u001b[38;5;250m \u001b[39m\u001b[38;5;21;01mpandas\u001b[39;00m\u001b[38;5;250m \u001b[39m\u001b[38;5;28;01mas\u001b[39;00m\u001b[38;5;250m \u001b[39m\u001b[38;5;21;01mpd\u001b[39;00m\n\u001b[1;32m----> 2\u001b[0m \u001b[38;5;28;01mfrom\u001b[39;00m\u001b[38;5;250m \u001b[39m\u001b[38;5;21;01mgdown_folder\u001b[39;00m\u001b[38;5;250m \u001b[39m\u001b[38;5;28;01mimport\u001b[39;00m download_folder\n\u001b[0;32m      3\u001b[0m \u001b[38;5;28;01mimport\u001b[39;00m\u001b[38;5;250m \u001b[39m\u001b[38;5;21;01mos\u001b[39;00m\n\u001b[0;32m      5\u001b[0m \u001b[38;5;66;03m# Load your CSV\u001b[39;00m\n",
      "\u001b[1;31mModuleNotFoundError\u001b[0m: No module named 'gdown_folder'"
     ]
    }
   ],
   "source": [
    "import pandas as pd\n",
    "from gdown_folder import download_folder\n",
    "import os\n",
    "\n",
    "# Load your CSV\n",
    "df = pd.read_csv(\"D:/ISL_Dictionary_words.csv\")\n",
    "\n",
    "# Base output folder\n",
    "base_path = \"D:/ISL_Dataset\"\n",
    "\n",
    "# Loop through each row and download\n",
    "for idx, row in df.iterrows():\n",
    "    folder_name = str(row[\"Folder Name\"]).strip()\n",
    "    link = row[\"Link\"]\n",
    "\n",
    "    output_path = os.path.join(base_path, folder_name)\n",
    "    os.makedirs(output_path, exist_ok=True)\n",
    "\n",
    "    print(f\"Downloading {folder_name}...\")\n",
    "    try:\n",
    "        download_folder(link, output=output_path, quiet=False, use_cookies=False)\n",
    "    except Exception as e:\n",
    "        print(f\"❌ Failed for {folder_name}: {e}\")\n"
   ]
  },
  {
   "cell_type": "code",
   "execution_count": null,
   "id": "124b604f-de7f-43ce-91d3-e788d7a3acc6",
   "metadata": {},
   "outputs": [],
   "source": []
  }
 ],
 "metadata": {
  "kernelspec": {
   "display_name": "Python 3 (ipykernel)",
   "language": "python",
   "name": "python3"
  },
  "language_info": {
   "codemirror_mode": {
    "name": "ipython",
    "version": 3
   },
   "file_extension": ".py",
   "mimetype": "text/x-python",
   "name": "python",
   "nbconvert_exporter": "python",
   "pygments_lexer": "ipython3",
   "version": "3.10.18"
  }
 },
 "nbformat": 4,
 "nbformat_minor": 5
}
